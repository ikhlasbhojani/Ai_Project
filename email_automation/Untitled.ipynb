{
 "cells": [
  {
   "cell_type": "code",
   "execution_count": 11,
   "id": "e60068b4",
   "metadata": {},
   "outputs": [
    {
     "name": "stdout",
     "output_type": "stream",
     "text": [
      "Email sent to ikhlasbhojani00@gmail.com successfully!\n",
      "Email sent to ikhlasbhojani5@gmail.com successfully!\n"
     ]
    }
   ],
   "source": [
    "import smtplib\n",
    "import pandas as pd\n",
    "from email.message import EmailMessage\n",
    "\n",
    "# Email configuration\n",
    "sender_email = 'exemple@gmail.com'\n",
    "sender_password = 'password'\n",
    "message_subject = 'Subject of the Email'\n",
    "message_body = 'Body of the Email'\n",
    "\n",
    "# List of recipients\n",
    "file_path = 'path_to_your_excel_file.xlsx'\n",
    "def get_column_as_list(column_name):\n",
    "    df = pd.read_excel(file_path)\n",
    "    column_list = df[column_name].tolist()\n",
    "    return column_list\n",
    "\n",
    "column_name = 'email'\n",
    "recipient = get_column_as_list(column_name)\n",
    "\n",
    "# Email sending function\n",
    "def send_email(recipient):\n",
    "    msg = EmailMessage()\n",
    "    msg['From'] = sender_email\n",
    "    msg['To'] = recipient\n",
    "    msg['Subject'] = message_subject\n",
    "    msg.set_content(message_body)\n",
    "    with open(\"Ikhlascv.pdf\", 'rb') as file:\n",
    "        file_data = file.read()\n",
    "        msg.add_attachment(file_data, maintype='application', subtype='pdf', filename='Ikhlascv.pdf')\n",
    "    \n",
    "    \n",
    "\n",
    "    with smtplib.SMTP_SSL('smtp.gmail.com', 465) as smtp:\n",
    "        smtp.login(sender_email, sender_password)\n",
    "        smtp.send_message(msg)\n",
    "\n",
    "# Sending emails to all recipients\n",
    "for recipient in recipients:\n",
    "    try:\n",
    "        send_email(recipient)\n",
    "        print(f\"Email sent to {recipient} successfully!\")\n",
    "    except Exception as e:\n",
    "        print(f\"Failed to send email to {recipient}. Error: {e}\")\n"
   ]
  },
  {
   "cell_type": "code",
   "execution_count": null,
   "id": "a766fe03",
   "metadata": {},
   "outputs": [],
   "source": []
  }
 ],
 "metadata": {
  "kernelspec": {
   "display_name": "Python 3 (ipykernel)",
   "language": "python",
   "name": "python3"
  },
  "language_info": {
   "codemirror_mode": {
    "name": "ipython",
    "version": 3
   },
   "file_extension": ".py",
   "mimetype": "text/x-python",
   "name": "python",
   "nbconvert_exporter": "python",
   "pygments_lexer": "ipython3",
   "version": "3.11.3"
  }
 },
 "nbformat": 4,
 "nbformat_minor": 5
}
