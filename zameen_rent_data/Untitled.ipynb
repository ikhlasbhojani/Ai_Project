{
 "cells": [
  {
   "cell_type": "code",
   "execution_count": 2,
   "id": "d8acea06",
   "metadata": {},
   "outputs": [],
   "source": [
    "import pandas as pd\n",
    "from bs4 import BeautifulSoup\n",
    "import requests\n",
    "import csv"
   ]
  },
  {
   "cell_type": "code",
   "execution_count": 3,
   "id": "45c92f8e",
   "metadata": {},
   "outputs": [],
   "source": [
    "for i in range(10):\n",
    "    URL = f\"https://www.zameen.com/Rentals_Flats_Apartments/Karachi-2-{i}.html\"\n",
    "    HEADERS = {\n",
    "        \"User-Agent\": \"Mozilla/5.0 (Windows NT 10.0; Win64; x64) AppleWebKit/537.36 (KHTML, like Gecko) Chrome/114.0.0.0 Safari/537.36\",\n",
    "        \"Accept-Language\": \"en-US, en;q=0.5\"\n",
    "    }\n",
    "    webpage = requests.get(URL, headers=HEADERS)\n",
    "    html = webpage.content\n",
    "    soup = BeautifulSoup(html, 'html.parser')\n",
    "    result = soup.find_all(\"a\", class_= \"_7ac32433\")\n",
    "    href_links = []\n",
    "    for i in range(len(result)):\n",
    "        href_links.append(result[i].get(\"href\"))\n",
    "    with open('outputs.csv', 'a', newline='') as file:\n",
    "        writer = csv.writer(file)\n",
    "        for i in range(len(href_links)):\n",
    "            product_list = \"https://www.zameen.com\" + href_links[i]\n",
    "            new_webpage = requests.get(product_list, headers=HEADERS)\n",
    "            new_soup = BeautifulSoup(new_webpage.content, 'html.parser')\n",
    "            details = new_soup.find_all(\"span\", class_=[\"_812aa185\",\"_17984a2c\"])\n",
    "            row = []\n",
    "            for item in details:\n",
    "                row.append(item.text)\n",
    "            writer.writerow(row)"
   ]
  },
  {
   "cell_type": "code",
   "execution_count": null,
   "id": "10dd1c78",
   "metadata": {},
   "outputs": [],
   "source": []
  }
 ],
 "metadata": {
  "kernelspec": {
   "display_name": "Python 3 (ipykernel)",
   "language": "python",
   "name": "python3"
  },
  "language_info": {
   "codemirror_mode": {
    "name": "ipython",
    "version": 3
   },
   "file_extension": ".py",
   "mimetype": "text/x-python",
   "name": "python",
   "nbconvert_exporter": "python",
   "pygments_lexer": "ipython3",
   "version": "3.11.3"
  }
 },
 "nbformat": 4,
 "nbformat_minor": 5
}
